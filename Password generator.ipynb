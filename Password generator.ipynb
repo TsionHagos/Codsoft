{
 "cells": [
  {
   "cell_type": "code",
   "execution_count": 4,
   "id": "9295de93",
   "metadata": {},
   "outputs": [
    {
     "name": "stdout",
     "output_type": "stream",
     "text": [
      "Welcome\n",
      "      This password generator generates strong and random passwords for you with your desired length.\n",
      "Please enter the desired length of the password: 5\n",
      "The generated password is  }x([1\n"
     ]
    }
   ],
   "source": [
    "import random \n",
    "import string\n",
    "def generate_password(length):\n",
    "    characters_list = list(string.ascii_letters + string.digits + string.punctuation) \n",
    "    password_char_list = []\n",
    "    i = 0\n",
    "    while i < int(length):\n",
    "        password_char_list.append(random.choice(characters_list))\n",
    "        i += 1\n",
    "    password = ''.join(password_char_list)\n",
    "    return password\n",
    "print('''Welcome\n",
    "      This password generator generates strong and random passwords for you with your desired length.''')\n",
    "length = input(\"Please enter the desired length of the password: \")\n",
    "while not length.isdigit():\n",
    "    print(\"The value you entered is not a positive number. Please try again.\")\n",
    "    length = input(\"Please enter the desired length of the password: \")\n",
    "password = generate_password(length)\n",
    "print(\"The generated password is \", password)"
   ]
  },
  {
   "cell_type": "code",
   "execution_count": null,
   "id": "50fede29",
   "metadata": {},
   "outputs": [],
   "source": []
  }
 ],
 "metadata": {
  "kernelspec": {
   "display_name": "Python 3 (ipykernel)",
   "language": "python",
   "name": "python3"
  },
  "language_info": {
   "codemirror_mode": {
    "name": "ipython",
    "version": 3
   },
   "file_extension": ".py",
   "mimetype": "text/x-python",
   "name": "python",
   "nbconvert_exporter": "python",
   "pygments_lexer": "ipython3",
   "version": "3.11.5"
  }
 },
 "nbformat": 4,
 "nbformat_minor": 5
}
