{
 "cells": [
  {
   "cell_type": "code",
   "execution_count": 4,
   "id": "73468a16",
   "metadata": {},
   "outputs": [
    {
     "name": "stdout",
     "output_type": "stream",
     "text": [
      "Welcome\n",
      "      This calculator uses the four basic arithmetic operations and gives result\n",
      "Please enter the first number: 1\n",
      "Please enter the second number: 2\n",
      "Choose one of the corresponding values of the operations listed below:\n",
      "      a) Addition (+)\n",
      "      b) Subtraction (-)\n",
      "      c) Multiplication (*)\n",
      "      d) Division (/)\n",
      "Please enter the corresponding value of your desired operation (a/b/c/d): b\n",
      "The difference of  1  and  2  is  -1.0 .\n",
      "Thank you for using the calculator!\n"
     ]
    }
   ],
   "source": [
    "def add(x, y):\n",
    "    return (x + y)\n",
    "def subtract(x, y):\n",
    "    return (x - y)\n",
    "def multiply(x, y):\n",
    "    return (x * y)\n",
    "def divide(x, y):\n",
    "    return (x / y)\n",
    "print('''Welcome\n",
    "      This calculator uses the four basic arithmetic operations and gives result''')\n",
    "\n",
    "while True:\n",
    "    x = input(\"Please enter the first number: \")\n",
    "    try:\n",
    "        x_f = float(x)\n",
    "        break\n",
    "    except ValueError:\n",
    "        print(\"The value you entered is not a number. Please enter another value again.\")\n",
    "    \n",
    "\n",
    "while True:\n",
    "    y = input(\"Please enter the second number: \")\n",
    "    try:\n",
    "        y_f = float(y)\n",
    "        break\n",
    "    except ValueError:\n",
    "        print(\"The value you entered is not a number. Please enter another value again.\")\n",
    "    \n",
    "print('''Choose one of the corresponding values of the operations listed below:\n",
    "      a) Addition (+)\n",
    "      b) Subtraction (-)\n",
    "      c) Multiplication (*)\n",
    "      d) Division (/)''')\n",
    "operation = input (\"Please enter the corresponding value of your desired operation (a/b/c/d): \")\n",
    "while operation.lower() not in ['a', 'b', 'c', 'd']:\n",
    "    print(\"The vaue you entered is not in one of the choices. Please choose one that is available from the above choices.\")\n",
    "    operation = input (\"Please enter the corresponding value of your desired operation (a/b/c/d): \")\n",
    "if operation.lower() == 'a':\n",
    "    sum = add(float(x), float(y))\n",
    "    print(\"The sum of \", x, \" and \", y, \" is \", sum, \".\")\n",
    "elif operation.lower() == \"b\":\n",
    "    difference = subtract(float(x), float(y))\n",
    "    print(\"The difference of \", x, \" and \", y, \" is \", difference, \".\")\n",
    "elif operation.lower() == \"c\":\n",
    "    product = multiply(float(x), float(y))\n",
    "    print(\"The product of \", x, \" and \", y, \" is \", product, \".\")\n",
    "else:\n",
    "    if y == \"0\":\n",
    "        quotient = \"undefined\"\n",
    "    else:\n",
    "        quotient = divide(float(x), float(y))\n",
    "    print(\"The quotient of \", x, \" and \", y, \" is \", quotient, \".\")\n",
    "print(\"Thank you for using the calculator!\")"
   ]
  },
  {
   "cell_type": "code",
   "execution_count": null,
   "id": "5746353e",
   "metadata": {},
   "outputs": [],
   "source": []
  }
 ],
 "metadata": {
  "kernelspec": {
   "display_name": "Python 3 (ipykernel)",
   "language": "python",
   "name": "python3"
  },
  "language_info": {
   "codemirror_mode": {
    "name": "ipython",
    "version": 3
   },
   "file_extension": ".py",
   "mimetype": "text/x-python",
   "name": "python",
   "nbconvert_exporter": "python",
   "pygments_lexer": "ipython3",
   "version": "3.11.5"
  }
 },
 "nbformat": 4,
 "nbformat_minor": 5
}
